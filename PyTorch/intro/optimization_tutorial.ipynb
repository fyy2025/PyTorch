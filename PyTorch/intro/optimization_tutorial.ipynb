{
  "cells": [
    {
      "cell_type": "code",
      "execution_count": 1,
      "metadata": {
        "collapsed": false
      },
      "outputs": [],
      "source": [
        "%matplotlib inline"
      ]
    },
    {
      "cell_type": "markdown",
      "metadata": {},
      "source": [
        "\n",
        "[Learn the Basics](intro.html) ||\n",
        "[Quickstart](quickstart_tutorial.html) ||\n",
        "[Tensors](tensorqs_tutorial.html) ||\n",
        "[Datasets & DataLoaders](data_tutorial.html) ||\n",
        "[Transforms](transforms_tutorial.html) ||\n",
        "[Build Model](buildmodel_tutorial.html) ||\n",
        "[Autograd](autogradqs_tutorial.html) ||\n",
        "**Optimization** ||\n",
        "[Save & Load Model](saveloadrun_tutorial.html)\n",
        "\n",
        "# Optimizing Model Parameters\n",
        "\n",
        "Now that we have a model and data it's time to train, validate and test our model by optimizing its parameters on\n",
        "our data. Training a model is an iterative process; in each iteration the model makes a guess about the output, calculates\n",
        "the error in its guess (*loss*), collects the derivatives of the error with respect to its parameters (as we saw in\n",
        "the [previous section](autograd_tutorial.html)), and **optimizes** these parameters using gradient descent. For a more\n",
        "detailed walkthrough of this process, check out this video on [backpropagation from 3Blue1Brown](https://www.youtube.com/watch?v=tIeHLnjs5U8)_.\n",
        "\n",
        "## Prerequisite Code\n",
        "We load the code from the previous sections on [Datasets & DataLoaders](data_tutorial.html)\n",
        "and [Build Model](buildmodel_tutorial.html).\n"
      ]
    },
    {
      "cell_type": "code",
      "execution_count": 8,
      "metadata": {
        "collapsed": false
      },
      "outputs": [],
      "source": [
        "import torch\n",
        "from torch import nn\n",
        "from torch.utils.data import DataLoader\n",
        "from torchvision import datasets\n",
        "from torchvision.transforms import ToTensor\n",
        "\n",
        "training_data = datasets.FashionMNIST(\n",
        "    root=\"data\",\n",
        "    train=True,\n",
        "    download=True,\n",
        "    transform=ToTensor()\n",
        ")\n",
        "\n",
        "test_data = datasets.FashionMNIST(\n",
        "    root=\"data\",\n",
        "    train=False,\n",
        "    download=True,\n",
        "    transform=ToTensor()\n",
        ")\n",
        "\n",
        "train_dataloader = DataLoader(training_data, batch_size=64)\n",
        "test_dataloader = DataLoader(test_data, batch_size=64)\n",
        "\n",
        "class NeuralNetwork(nn.Module):\n",
        "    def __init__(self):\n",
        "        super(NeuralNetwork, self).__init__()\n",
        "        self.flatten = nn.Flatten()\n",
        "        self.linear_relu_stack = nn.Sequential(\n",
        "            nn.Linear(28*28, 512),\n",
        "            nn.ReLU(),\n",
        "            nn.Linear(512, 512),\n",
        "            nn.ReLU(),\n",
        "            nn.Linear(512, 10),\n",
        "        )\n",
        "\n",
        "    def forward(self, x):\n",
        "        x = self.flatten(x)\n",
        "        logits = self.linear_relu_stack(x)\n",
        "        return logits\n",
        "\n",
        "model = NeuralNetwork()"
      ]
    },
    {
      "cell_type": "markdown",
      "metadata": {},
      "source": [
        "## Hyperparameters\n",
        "\n",
        "Hyperparameters are adjustable parameters that let you control the model optimization process.\n",
        "Different hyperparameter values can impact model training and convergence rates\n",
        "([read more](https://pytorch.org/tutorials/beginner/hyperparameter_tuning_tutorial.html)_ about hyperparameter tuning)\n",
        "\n",
        "We define the following hyperparameters for training:\n",
        " - **Number of Epochs** - the number times to iterate over the dataset\n",
        " - **Batch Size** - the number of data samples propagated through the network before the parameters are updated\n",
        " - **Learning Rate** - how much to update models parameters at each batch/epoch. Smaller values yield slow learning speed, while large values may result in unpredictable behavior during training.\n",
        "\n",
        "\n"
      ]
    },
    {
      "cell_type": "code",
      "execution_count": 3,
      "metadata": {
        "collapsed": false
      },
      "outputs": [],
      "source": [
        "learning_rate = 1e-3\n",
        "batch_size = 64\n",
        "epochs = 5 # One Epoch is when an ENTIRE dataset is passed forward and backward through the neural network only ONCE."
      ]
    },
    {
      "cell_type": "markdown",
      "metadata": {},
      "source": [
        "## Optimization Loop\n",
        "\n",
        "Once we set our hyperparameters, we can then train and optimize our model with an optimization loop. Each\n",
        "iteration of the optimization loop is called an **epoch**.\n",
        "\n",
        "Each epoch consists of two main parts:\n",
        " - **The Train Loop** - iterate over the training dataset and try to converge to optimal parameters.\n",
        " - **The Validation/Test Loop** - iterate over the test dataset to check if model performance is improving.\n",
        "\n",
        "Let's briefly familiarize ourselves with some of the concepts used in the training loop. Jump ahead to\n",
        "see the `full-impl-label` of the optimization loop.\n",
        "\n",
        "### Loss Function\n",
        "\n",
        "When presented with some training data, our untrained network is likely not to give the correct\n",
        "answer. **Loss function** measures the degree of dissimilarity of obtained result to the target value,\n",
        "and it is the loss function that we want to minimize during training. To calculate the loss we make a\n",
        "prediction using the inputs of our given data sample and compare it against the true data label value.\n",
        "\n",
        "Common loss functions include [nn.MSELoss](https://pytorch.org/docs/stable/generated/torch.nn.MSELoss.html#torch.nn.MSELoss) (Mean Square Error) for regression tasks, and\n",
        "[nn.NLLLoss](https://pytorch.org/docs/stable/generated/torch.nn.NLLLoss.html#torch.nn.NLLLoss) (Negative Log Likelihood) for classification.\n",
        "[nn.CrossEntropyLoss](https://pytorch.org/docs/stable/generated/torch.nn.CrossEntropyLoss.html#torch.nn.CrossEntropyLoss) combines ``nn.LogSoftmax`` and ``nn.NLLLoss``.\n",
        "\n",
        "We pass our model's output logits to ``nn.CrossEntropyLoss``, which will normalize the logits and compute the prediction error.\n",
        "\n"
      ]
    },
    {
      "cell_type": "code",
      "execution_count": 4,
      "metadata": {
        "collapsed": false
      },
      "outputs": [],
      "source": [
        "# Initialize the loss function\n",
        "loss_fn = nn.CrossEntropyLoss()"
      ]
    },
    {
      "cell_type": "markdown",
      "metadata": {},
      "source": [
        "### Optimizer\n",
        "\n",
        "Optimization is the process of adjusting model parameters to reduce model error in each training step. **Optimization algorithms** define how this process is performed (in this example we use Stochastic Gradient Descent).\n",
        "All optimization logic is encapsulated in  the ``optimizer`` object. Here, we use the SGD optimizer; additionally, there are many [different optimizers](https://pytorch.org/docs/stable/optim.html)\n",
        "available in PyTorch such as ADAM and RMSProp, that work better for different kinds of models and data.\n",
        "\n",
        "We initialize the optimizer by registering the model's parameters that need to be trained, and passing in the learning rate hyperparameter.\n",
        "\n"
      ]
    },
    {
      "cell_type": "code",
      "execution_count": 5,
      "metadata": {
        "collapsed": false
      },
      "outputs": [],
      "source": [
        "optimizer = torch.optim.SGD(model.parameters(), lr=learning_rate)\n",
        "# SGD: stochastic gradient descent"
      ]
    },
    {
      "cell_type": "markdown",
      "metadata": {},
      "source": [
        "Inside the training loop, optimization happens in three steps:\n",
        " * Call ``optimizer.zero_grad()`` to reset the gradients of model parameters. Gradients by default add up; to prevent double-counting, we explicitly zero them at each iteration.\n",
        " * Backpropagate the prediction loss with a call to ``loss.backward()``. PyTorch deposits the gradients of the loss w.r.t. each parameter.\n",
        " * Once we have our gradients, we call ``optimizer.step()`` to adjust the parameters by the gradients collected in the backward pass.\n",
        "\n"
      ]
    },
    {
      "cell_type": "markdown",
      "metadata": {},
      "source": [
        "\n",
        "## Full Implementation\n",
        "We define ``train_loop`` that loops over our optimization code, and ``test_loop`` that\n",
        "evaluates the model's performance against our test data.\n",
        "\n"
      ]
    },
    {
      "cell_type": "code",
      "execution_count": 6,
      "metadata": {
        "collapsed": false
      },
      "outputs": [],
      "source": [
        "def train_loop(dataloader, model, loss_fn, optimizer):\n",
        "    size = len(dataloader.dataset)\n",
        "    for batch, (X, y) in enumerate(dataloader):\n",
        "        # Compute prediction and loss\n",
        "        pred = model(X)\n",
        "        loss = loss_fn(pred, y)\n",
        "\n",
        "        # Backpropagation\n",
        "        optimizer.zero_grad()\n",
        "        loss.backward()\n",
        "        optimizer.step()\n",
        "\n",
        "        if batch % 100 == 0:\n",
        "            loss, current = loss.item(), batch * len(X)\n",
        "            print(f\"loss: {loss:>7f}  [{current:>5d}/{size:>5d}]\")\n",
        "\n",
        "\n",
        "def test_loop(dataloader, model, loss_fn):\n",
        "    size = len(dataloader.dataset)\n",
        "    num_batches = len(dataloader)\n",
        "    test_loss, correct = 0, 0\n",
        "\n",
        "    with torch.no_grad():\n",
        "        for X, y in dataloader:\n",
        "            pred = model(X)\n",
        "            test_loss += loss_fn(pred, y).item()\n",
        "            correct += (pred.argmax(1) == y).type(torch.float).sum().item()\n",
        "\n",
        "    test_loss /= num_batches\n",
        "    correct /= size\n",
        "    print(f\"Test Error: \\n Accuracy: {(100*correct):>0.1f}%, Avg loss: {test_loss:>8f} \\n\")"
      ]
    },
    {
      "cell_type": "markdown",
      "metadata": {},
      "source": [
        "We initialize the loss function and optimizer, and pass it to ``train_loop`` and ``test_loop``.\n",
        "Feel free to increase the number of epochs to track the model's improving performance.\n",
        "\n"
      ]
    },
    {
      "cell_type": "code",
      "execution_count": 7,
      "metadata": {
        "collapsed": false
      },
      "outputs": [
        {
          "name": "stdout",
          "output_type": "stream",
          "text": [
            "Epoch 1\n",
            "-------------------------------\n",
            "loss: 2.301935  [    0/60000]\n",
            "loss: 2.292489  [ 6400/60000]\n",
            "loss: 2.268914  [12800/60000]\n",
            "loss: 2.265373  [19200/60000]\n",
            "loss: 2.246294  [25600/60000]\n",
            "loss: 2.216879  [32000/60000]\n",
            "loss: 2.226765  [38400/60000]\n",
            "loss: 2.195110  [44800/60000]\n",
            "loss: 2.199145  [51200/60000]\n",
            "loss: 2.158792  [57600/60000]\n",
            "Test Error: \n",
            " Accuracy: 34.7%, Avg loss: 2.156559 \n",
            "\n",
            "Epoch 2\n",
            "-------------------------------\n",
            "loss: 2.170188  [    0/60000]\n",
            "loss: 2.158731  [ 6400/60000]\n",
            "loss: 2.105442  [12800/60000]\n",
            "loss: 2.120629  [19200/60000]\n",
            "loss: 2.066073  [25600/60000]\n",
            "loss: 2.007220  [32000/60000]\n",
            "loss: 2.031969  [38400/60000]\n",
            "loss: 1.956652  [44800/60000]\n",
            "loss: 1.973690  [51200/60000]\n",
            "loss: 1.892923  [57600/60000]\n",
            "Test Error: \n",
            " Accuracy: 55.8%, Avg loss: 1.894853 \n",
            "\n",
            "Epoch 3\n",
            "-------------------------------\n",
            "loss: 1.929395  [    0/60000]\n",
            "loss: 1.894171  [ 6400/60000]\n",
            "loss: 1.789685  [12800/60000]\n",
            "loss: 1.828304  [19200/60000]\n",
            "loss: 1.717380  [25600/60000]\n",
            "loss: 1.668929  [32000/60000]\n",
            "loss: 1.686360  [38400/60000]\n",
            "loss: 1.594168  [44800/60000]\n",
            "loss: 1.629559  [51200/60000]\n",
            "loss: 1.518433  [57600/60000]\n",
            "Test Error: \n",
            " Accuracy: 61.4%, Avg loss: 1.540137 \n",
            "\n",
            "Epoch 4\n",
            "-------------------------------\n",
            "loss: 1.605447  [    0/60000]\n",
            "loss: 1.565148  [ 6400/60000]\n",
            "loss: 1.430237  [12800/60000]\n",
            "loss: 1.492245  [19200/60000]\n",
            "loss: 1.382037  [25600/60000]\n",
            "loss: 1.370909  [32000/60000]\n",
            "loss: 1.375436  [38400/60000]\n",
            "loss: 1.308066  [44800/60000]\n",
            "loss: 1.345797  [51200/60000]\n",
            "loss: 1.243879  [57600/60000]\n",
            "Test Error: \n",
            " Accuracy: 63.8%, Avg loss: 1.272263 \n",
            "\n",
            "Epoch 5\n",
            "-------------------------------\n",
            "loss: 1.348548  [    0/60000]\n",
            "loss: 1.324993  [ 6400/60000]\n",
            "loss: 1.172079  [12800/60000]\n",
            "loss: 1.263758  [19200/60000]\n",
            "loss: 1.152276  [25600/60000]\n",
            "loss: 1.165177  [32000/60000]\n",
            "loss: 1.177877  [38400/60000]\n",
            "loss: 1.121108  [44800/60000]\n",
            "loss: 1.162120  [51200/60000]\n",
            "loss: 1.078251  [57600/60000]\n",
            "Test Error: \n",
            " Accuracy: 65.1%, Avg loss: 1.100431 \n",
            "\n",
            "Epoch 6\n",
            "-------------------------------\n",
            "loss: 1.173151  [    0/60000]\n",
            "loss: 1.168462  [ 6400/60000]\n",
            "loss: 0.997973  [12800/60000]\n",
            "loss: 1.119273  [19200/60000]\n",
            "loss: 1.006792  [25600/60000]\n",
            "loss: 1.024797  [32000/60000]\n",
            "loss: 1.055796  [38400/60000]\n",
            "loss: 1.000029  [44800/60000]\n",
            "loss: 1.041877  [51200/60000]\n",
            "loss: 0.974444  [57600/60000]\n",
            "Test Error: \n",
            " Accuracy: 66.1%, Avg loss: 0.989062 \n",
            "\n",
            "Epoch 7\n",
            "-------------------------------\n",
            "loss: 1.051443  [    0/60000]\n",
            "loss: 1.067244  [ 6400/60000]\n",
            "loss: 0.878971  [12800/60000]\n",
            "loss: 1.023251  [19200/60000]\n",
            "loss: 0.913907  [25600/60000]\n",
            "loss: 0.927048  [32000/60000]\n",
            "loss: 0.977236  [38400/60000]\n",
            "loss: 0.921447  [44800/60000]\n",
            "loss: 0.958978  [51200/60000]\n",
            "loss: 0.905572  [57600/60000]\n",
            "Test Error: \n",
            " Accuracy: 67.3%, Avg loss: 0.913552 \n",
            "\n",
            "Epoch 8\n",
            "-------------------------------\n",
            "loss: 0.962575  [    0/60000]\n",
            "loss: 0.997898  [ 6400/60000]\n",
            "loss: 0.794550  [12800/60000]\n",
            "loss: 0.955449  [19200/60000]\n",
            "loss: 0.851529  [25600/60000]\n",
            "loss: 0.856422  [32000/60000]\n",
            "loss: 0.922651  [38400/60000]\n",
            "loss: 0.869191  [44800/60000]\n",
            "loss: 0.899958  [51200/60000]\n",
            "loss: 0.856350  [57600/60000]\n",
            "Test Error: \n",
            " Accuracy: 68.5%, Avg loss: 0.859635 \n",
            "\n",
            "Epoch 9\n",
            "-------------------------------\n",
            "loss: 0.894687  [    0/60000]\n",
            "loss: 0.946248  [ 6400/60000]\n",
            "loss: 0.732056  [12800/60000]\n",
            "loss: 0.905275  [19200/60000]\n",
            "loss: 0.807030  [25600/60000]\n",
            "loss: 0.804051  [32000/60000]\n",
            "loss: 0.881975  [38400/60000]\n",
            "loss: 0.833162  [44800/60000]\n",
            "loss: 0.856666  [51200/60000]\n",
            "loss: 0.818953  [57600/60000]\n",
            "Test Error: \n",
            " Accuracy: 69.8%, Avg loss: 0.819254 \n",
            "\n",
            "Epoch 10\n",
            "-------------------------------\n",
            "loss: 0.840893  [    0/60000]\n",
            "loss: 0.905085  [ 6400/60000]\n",
            "loss: 0.683897  [12800/60000]\n",
            "loss: 0.866760  [19200/60000]\n",
            "loss: 0.773457  [25600/60000]\n",
            "loss: 0.764063  [32000/60000]\n",
            "loss: 0.849426  [38400/60000]\n",
            "loss: 0.806761  [44800/60000]\n",
            "loss: 0.823790  [51200/60000]\n",
            "loss: 0.789043  [57600/60000]\n",
            "Test Error: \n",
            " Accuracy: 71.0%, Avg loss: 0.787397 \n",
            "\n",
            "Done!\n"
          ]
        }
      ],
      "source": [
        "loss_fn = nn.CrossEntropyLoss()\n",
        "optimizer = torch.optim.SGD(model.parameters(), lr=learning_rate)\n",
        "\n",
        "epochs = 10\n",
        "for t in range(epochs):\n",
        "    print(f\"Epoch {t+1}\\n-------------------------------\")\n",
        "    train_loop(train_dataloader, model, loss_fn, optimizer)\n",
        "    test_loop(test_dataloader, model, loss_fn)\n",
        "print(\"Done!\")"
      ]
    },
    {
      "cell_type": "markdown",
      "metadata": {},
      "source": [
        "## Further Reading\n",
        "- [Loss Functions](https://pytorch.org/docs/stable/nn.html#loss-functions)\n",
        "- [torch.optim](https://pytorch.org/docs/stable/optim.html)\n",
        "- [Warmstart Training a Model](https://pytorch.org/tutorials/recipes/recipes/warmstarting_model_using_parameters_from_a_different_model.html)\n",
        "\n",
        "\n"
      ]
    },
    {
      "cell_type": "markdown",
      "metadata": {},
      "source": [
        "We can also pass a dict in optimizer, this is very useful when one wants to specify per-layer learning rates. To do this, instead of passing an iterable of Variable s, pass in an iterable of dict s. Each of them will define a separate parameter group, and should contain a params key, containing a list of parameters belonging to it. Other keys should match the keyword arguments accepted by the optimizers, and will be used as optimization options for this group."
      ]
    },
    {
      "cell_type": "code",
      "execution_count": 10,
      "metadata": {},
      "outputs": [
        {
          "ename": "AttributeError",
          "evalue": "'NeuralNetwork' object has no attribute 'base'",
          "output_type": "error",
          "traceback": [
            "\u001b[0;31m---------------------------------------------------------------------------\u001b[0m",
            "\u001b[0;31mAttributeError\u001b[0m                            Traceback (most recent call last)",
            "Cell \u001b[0;32mIn[10], line 4\u001b[0m\n\u001b[1;32m      1\u001b[0m \u001b[39m# We can also pass a dict in optimizer, this is very useful when one wants to specify per-layer learning rates:\u001b[39;00m\n\u001b[1;32m      3\u001b[0m torch\u001b[39m.\u001b[39moptim\u001b[39m.\u001b[39mSGD([\n\u001b[0;32m----> 4\u001b[0m                 {\u001b[39m'\u001b[39m\u001b[39mparams\u001b[39m\u001b[39m'\u001b[39m: model\u001b[39m.\u001b[39;49mbase\u001b[39m.\u001b[39mparameters()},\n\u001b[1;32m      5\u001b[0m                 {\u001b[39m'\u001b[39m\u001b[39mparams\u001b[39m\u001b[39m'\u001b[39m: model\u001b[39m.\u001b[39mclassifier\u001b[39m.\u001b[39mparameters(), \u001b[39m'\u001b[39m\u001b[39mlr\u001b[39m\u001b[39m'\u001b[39m: \u001b[39m1e-3\u001b[39m}\n\u001b[1;32m      6\u001b[0m             ], lr\u001b[39m=\u001b[39m\u001b[39m1e-2\u001b[39m, momentum\u001b[39m=\u001b[39m\u001b[39m0.9\u001b[39m)\n",
            "File \u001b[0;32m/opt/homebrew/lib/python3.9/site-packages/torch/nn/modules/module.py:1265\u001b[0m, in \u001b[0;36mModule.__getattr__\u001b[0;34m(self, name)\u001b[0m\n\u001b[1;32m   1263\u001b[0m     \u001b[39mif\u001b[39;00m name \u001b[39min\u001b[39;00m modules:\n\u001b[1;32m   1264\u001b[0m         \u001b[39mreturn\u001b[39;00m modules[name]\n\u001b[0;32m-> 1265\u001b[0m \u001b[39mraise\u001b[39;00m \u001b[39mAttributeError\u001b[39;00m(\u001b[39m\"\u001b[39m\u001b[39m'\u001b[39m\u001b[39m{}\u001b[39;00m\u001b[39m'\u001b[39m\u001b[39m object has no attribute \u001b[39m\u001b[39m'\u001b[39m\u001b[39m{}\u001b[39;00m\u001b[39m'\u001b[39m\u001b[39m\"\u001b[39m\u001b[39m.\u001b[39mformat(\n\u001b[1;32m   1266\u001b[0m     \u001b[39mtype\u001b[39m(\u001b[39mself\u001b[39m)\u001b[39m.\u001b[39m\u001b[39m__name__\u001b[39m, name))\n",
            "\u001b[0;31mAttributeError\u001b[0m: 'NeuralNetwork' object has no attribute 'base'"
          ]
        }
      ],
      "source": [
        "torch.optim.SGD([\n",
        "                {'params': model.base.parameters()},\n",
        "                {'params': model.classifier.parameters(), 'lr': 1e-3}\n",
        "            ], lr=1e-2, momentum=0.9)"
      ]
    },
    {
      "cell_type": "markdown",
      "metadata": {},
      "source": [
        "## How to adjust learning rate\n",
        "torch.optim.lr_scheduler provides several methods to adjust the learning rate based on the number of epochs. torch.optim.lr_scheduler.ReduceLROnPlateau allows dynamic learning rate reducing based on some validation measurements.\n",
        "\n",
        "Learning rate scheduling should be applied after optimizer’s update; e.g., you should write your code this way:"
      ]
    },
    {
      "cell_type": "code",
      "execution_count": null,
      "metadata": {},
      "outputs": [],
      "source": [
        "from torch.optim.lr_scheduler import ExponentialLR # decays the learning rate by gamma every epoch\n",
        "\n",
        "model = [torch.Parameter(torch.randn(2, 2, requires_grad=True))]\n",
        "optimizer = torch.optim.SGD(model, 0.1)\n",
        "scheduler = ExponentialLR(optimizer, gamma=0.9)\n",
        "\n",
        "for epoch in range(20):\n",
        "    for input, target in dataset:\n",
        "        optimizer.zero_grad()\n",
        "        output = model(input)\n",
        "        loss = loss_fn(output, target)\n",
        "        loss.backward()\n",
        "        optimizer.step()\n",
        "    scheduler.step()"
      ]
    },
    {
      "cell_type": "markdown",
      "metadata": {},
      "source": [
        "## Stochastic Weight Average (SWA)\n",
        "In short, SWA performs an equal average of the weights traversed by SGD with a modified learning rate schedule. SWA solutions end up in the center of a wide flat region of loss, while SGD tends to converge to the boundary of the low-loss region, making it susceptible to the shift between train and test error surfaces (see the middle and right panels of Figure 1).\n",
        "\n",
        "There are two important ingredients that make SWA work. First, SWA uses a modified learning rate schedule so that SGD continues to explore the set of high-performing networks instead of simply converging to a single solution. For example, we can use the standard decaying learning rate strategy for the first 75% of training time, and then set the learning rate to a reasonably high constant value for the remaining 25% of the time. The second ingredient is to average the weights of the networks traversed by SGD. For example, we can maintain a running average of the weights obtained in the end of every epoch within the last 25% of training time."
      ]
    },
    {
      "cell_type": "code",
      "execution_count": 11,
      "metadata": {},
      "outputs": [
        {
          "ename": "TypeError",
          "evalue": "cannot unpack non-iterable ellipsis object",
          "output_type": "error",
          "traceback": [
            "\u001b[0;31m---------------------------------------------------------------------------\u001b[0m",
            "\u001b[0;31mTypeError\u001b[0m                                 Traceback (most recent call last)",
            "Cell \u001b[0;32mIn[11], line 1\u001b[0m\n\u001b[0;32m----> 1\u001b[0m loader, optimizer, model, loss_fn, test_input \u001b[39m=\u001b[39m \u001b[39m.\u001b[39m\u001b[39m.\u001b[39m\u001b[39m.\u001b[39m\n\u001b[1;32m      2\u001b[0m swa_model \u001b[39m=\u001b[39m torch\u001b[39m.\u001b[39moptim\u001b[39m.\u001b[39mswa_utils\u001b[39m.\u001b[39mAveragedModel(model)\n\u001b[1;32m      3\u001b[0m scheduler \u001b[39m=\u001b[39m torch\u001b[39m.\u001b[39moptim\u001b[39m.\u001b[39mlr_scheduler\u001b[39m.\u001b[39mCosineAnnealingLR(optimizer, T_max\u001b[39m=\u001b[39m\u001b[39m300\u001b[39m)\n",
            "\u001b[0;31mTypeError\u001b[0m: cannot unpack non-iterable ellipsis object"
          ]
        }
      ],
      "source": [
        "loader, optimizer, model, loss_fn, test_input = ...\n",
        "swa_model = torch.optim.swa_utils.AveragedModel(model)\n",
        "scheduler = torch.optim.lr_scheduler.CosineAnnealingLR(optimizer, T_max=300)\n",
        "swa_start = 160\n",
        "swa_scheduler = torch.optim.swa_utils.SWALR(optimizer, anneal_strategy=\"linear\", anneal_epoch=5, swa_lr=0.05)\n",
        "for epoch in range(300):\n",
        "      for input, target in loader:\n",
        "          optimizer.zero_grad()\n",
        "          loss_fn(model(input), target).backward()\n",
        "          optimizer.step()\n",
        "      if epoch > swa_start:\n",
        "          swa_model.update_parameters(model)\n",
        "          swa_scheduler.step()\n",
        "      else:\n",
        "          scheduler.step()\n",
        "# Update batch normalization statistics for the swa_model at the end\n",
        "torch.optim.swa_utils.update_bn(loader, swa_model)\n",
        "# Use swa_model to make predictions on test data\n",
        "preds = swa_model(test_input)"
      ]
    },
    {
      "cell_type": "code",
      "execution_count": null,
      "metadata": {},
      "outputs": [],
      "source": [
        "# customize averaging strategy\n",
        "ema_avg = lambda averaged_model_parameter, model_parameter, num_averaged: 0.1 * averaged_model_parameter + 0.9 * model_parameter\n",
        "ema_model = torch.optim.swa_utils.AveragedModel(model, avg_fn=ema_avg)"
      ]
    },
    {
      "cell_type": "markdown",
      "metadata": {},
      "source": [
        "## Batch Normalization\n",
        "Normalizing the activation in each batch drastically increase the epochs needed for training deep neural networks.\n",
        "\n",
        "update_bn() assumes that each batch in the dataloader loader is either a tensors or a list of tensors where the first element is the tensor that the network swa_model should be applied to. If your dataloader has a different structure, you can update the batch normalization statistics of the swa_model by doing a forward pass with the swa_model on each element of the dataset."
      ]
    }
  ],
  "metadata": {
    "kernelspec": {
      "display_name": "Python 3.9.10 64-bit",
      "language": "python",
      "name": "python3"
    },
    "language_info": {
      "codemirror_mode": {
        "name": "ipython",
        "version": 3
      },
      "file_extension": ".py",
      "mimetype": "text/x-python",
      "name": "python",
      "nbconvert_exporter": "python",
      "pygments_lexer": "ipython3",
      "version": "3.9.10"
    },
    "vscode": {
      "interpreter": {
        "hash": "b0fa6594d8f4cbf19f97940f81e996739fb7646882a419484c72d19e05852a7e"
      }
    }
  },
  "nbformat": 4,
  "nbformat_minor": 0
}
