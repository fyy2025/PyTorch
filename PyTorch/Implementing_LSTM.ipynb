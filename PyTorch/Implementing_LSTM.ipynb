{
 "cells": [
  {
   "cell_type": "code",
   "execution_count": 1,
   "metadata": {},
   "outputs": [],
   "source": [
    "import math\n",
    "import torch\n",
    "import torch.nn as nn"
   ]
  },
  {
   "attachments": {},
   "cell_type": "markdown",
   "metadata": {},
   "source": [
    "Setting parameters"
   ]
  },
  {
   "cell_type": "code",
   "execution_count": null,
   "metadata": {},
   "outputs": [],
   "source": [
    "class NativeCustomLSTM(nn.Module):\n",
    "    def __init__(self, input_size, hidden_size):\n",
    "        super().__init__()\n",
    "        self.input_size=input_size\n",
    "        self.hidden_size=hidden_size\n",
    "\n",
    "        self.U_f=nn.Parameter(torch.Tensor(input_size, hidden_size))\n",
    "        self.V_f=nn.Parameter(torch.Tensor(hidden_size, hidden_size))\n",
    "        self.b_f=nn.Parameter(torch.Tensor(hidden_size))\n",
    "\n",
    "        self.U_i=nn.Parameter(torch.Tensor(input_size, hidden_size))\n",
    "        self.V_i=nn.Parameter(torch.Tensor(hidden_size, hidden_size))\n",
    "        self.b_i=nn.Parameter(torch.Tensor(hidden_size))\n",
    "\n",
    "        self.U_o=nn.Parameter(torch.Tensor(input_size, hidden_size))\n",
    "        self.V_o=nn.Parameter(torch.Tensor(hidden_size, hidden_size))\n",
    "        self.b_o=nn.Parameter(torch.Tensor(hidden_size))\n",
    "\n",
    "        self.U_c=nn.Parameter(torch.Tensor(input_size, hidden_size))\n",
    "        self.V_c=nn.Parameter(torch.Tensor(hidden_size, hidden_size))\n",
    "        self.b_c=nn.Parameter(torch.Tensor(hidden_size))\n",
    "\n",
    "        self.init_weights()\n",
    "    \n",
    "    def init_weights(self):\n",
    "        stdv=1.0/math.sqrt(self.hidden_size)\n",
    "        for weight in self.parameters():\n",
    "            weight.data.uniform_(-stdv, stdv)\n",
    "    \n",
    "    def forward(self, x, initial_state=None):\n",
    "        \"\"\"Assume x.shape is in the form of (batch_size, sequence_size, input_size)\"\"\"\n",
    "        batch_size, seq_size, _=x.size()\n",
    "        hidden_seq=[]\n",
    "\n",
    "        if initial_state is None:\n",
    "            h_t = torch.zeros(batch_size, self.hidden_size).to(x.device)\n",
    "            c_t = torch.zeros(batch_size, self.hidden_size).to(x.device)\n",
    "\n",
    "        else:\n",
    "            h_t, c_t = initial_state\n",
    "\n",
    "        for t in range(seq_size):\n",
    "            x_t = x[:, t, :] # input at time t\n",
    "            i_t = torch.sigmoid(x_t @ self.U_i + h_t @ self.V_i + self.b_i)\n",
    "            f_t = torch.sigmoid(x_t @ self.U_f + h_t @ self.V_f + self.b_f)\n",
    "            g_t = torch.tanh(x_t @ self.U_c + h_t @ self.V_c +self.b_c) #tanh:can both increase and decrease the values\n",
    "            c_t = f_t * c_t + i_t * g_t\n",
    "            o_t = torch.sigmoid(x_t @ self.U_o + h_t @ self.V_o + self.b_o)\n",
    "            h_t = o_t * torch.tanh(c_t)\n",
    "\n",
    "            \n",
    "\n"
   ]
  }
 ],
 "metadata": {
  "kernelspec": {
   "display_name": "Python 3",
   "language": "python",
   "name": "python3"
  },
  "language_info": {
   "codemirror_mode": {
    "name": "ipython",
    "version": 3
   },
   "file_extension": ".py",
   "mimetype": "text/x-python",
   "name": "python",
   "nbconvert_exporter": "python",
   "pygments_lexer": "ipython3",
   "version": "3.8.9"
  },
  "orig_nbformat": 4,
  "vscode": {
   "interpreter": {
    "hash": "31f2aee4e71d21fbe5cf8b01ff0e069b9275f58929596ceb00d14d90e3e16cd6"
   }
  }
 },
 "nbformat": 4,
 "nbformat_minor": 2
}
